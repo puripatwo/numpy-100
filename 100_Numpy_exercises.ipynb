{
 "cells": [
  {
   "cell_type": "markdown",
   "id": "52249554",
   "metadata": {},
   "source": [
    "# 100 numpy exercises\n",
    "\n",
    "This is a collection of exercises that have been collected in the numpy mailing list, on stack overflow\n",
    "and in the numpy documentation. The goal of this collection is to offer a quick reference for both old\n",
    "and new users but also to provide a set of exercises for those who teach.\n",
    "\n",
    "\n",
    "If you find an error or think you've a better way to solve some of them, feel\n",
    "free to open an issue at <https://github.com/rougier/numpy-100>."
   ]
  },
  {
   "cell_type": "markdown",
   "id": "9f0e56c3",
   "metadata": {},
   "source": [
    "File automatically generated. See the documentation to update questions/answers/hints programmatically."
   ]
  },
  {
   "cell_type": "markdown",
   "id": "04b078a1",
   "metadata": {},
   "source": [
    "Run the `initialize.py` module, then for each question you can query the\n",
    "answer or an hint with `hint(n)` or `answer(n)` for `n` question number."
   ]
  },
  {
   "cell_type": "code",
   "execution_count": 1,
   "id": "63ebbf77",
   "metadata": {},
   "outputs": [],
   "source": [
    "%run initialise.py"
   ]
  },
  {
   "cell_type": "markdown",
   "id": "e1672806",
   "metadata": {},
   "source": [
    "#### 1. Import the numpy package under the name `np` (★☆☆)"
   ]
  },
  {
   "cell_type": "code",
   "execution_count": 11,
   "id": "c39a5917",
   "metadata": {},
   "outputs": [
    {
     "name": "stdout",
     "output_type": "stream",
     "text": [
      "import numpy as np\n"
     ]
    }
   ],
   "source": [
    "import numpy as np\n",
    "answer(1)"
   ]
  },
  {
   "cell_type": "markdown",
   "id": "1d2a0271",
   "metadata": {},
   "source": [
    "#### 2. Print the numpy version and the configuration (★☆☆)"
   ]
  },
  {
   "cell_type": "code",
   "execution_count": 25,
   "id": "d4160594",
   "metadata": {},
   "outputs": [
    {
     "name": "stdout",
     "output_type": "stream",
     "text": [
      "hint: np.__version__, np.show_config)\n",
      "1.26.4\n",
      "Build Dependencies:\n",
      "  blas:\n",
      "    detection method: pkgconfig\n",
      "    found: true\n",
      "    include directory: /opt/anaconda3/include\n",
      "    lib directory: /opt/anaconda3/lib\n",
      "    name: openblas\n",
      "    openblas configuration: USE_64BITINT= DYNAMIC_ARCH=1 DYNAMIC_OLDER= NO_CBLAS=\n",
      "      NO_LAPACK=0 NO_LAPACKE= NO_AFFINITY=1 USE_OPENMP=0 VORTEX MAX_THREADS=128\n",
      "    pc file directory: /opt/anaconda3/lib/pkgconfig\n",
      "    version: 0.3.21\n",
      "  lapack:\n",
      "    detection method: internal\n",
      "    found: true\n",
      "    include directory: unknown\n",
      "    lib directory: unknown\n",
      "    name: dep4347739648\n",
      "    openblas configuration: unknown\n",
      "    pc file directory: unknown\n",
      "    version: 1.26.4\n",
      "Compilers:\n",
      "  c:\n",
      "    args: -ftree-vectorize, -fPIC, -fPIE, -fstack-protector-strong, -O2, -pipe, -isystem,\n",
      "      /opt/anaconda3/include, -fdebug-prefix-map=/var/folders/k1/30mswbxs7r1g6zwn8y4fyt500000gp/T/abs_a51i_mbs7m/croot/numpy_and_numpy_base_1708638620867/work=/usr/local/src/conda/numpy-base-1.26.4,\n",
      "      -fdebug-prefix-map=/opt/anaconda3=/usr/local/src/conda-prefix, -D_FORTIFY_SOURCE=2,\n",
      "      -isystem, /opt/anaconda3/include, -mmacosx-version-min=11.1\n",
      "    commands: arm64-apple-darwin20.0.0-clang\n",
      "    linker: ld64\n",
      "    linker args: -Wl,-pie, -Wl,-headerpad_max_install_names, -Wl,-dead_strip_dylibs,\n",
      "      -Wl,-rpath,/opt/anaconda3/lib, -L/opt/anaconda3/lib, -ftree-vectorize, -fPIC,\n",
      "      -fPIE, -fstack-protector-strong, -O2, -pipe, -isystem, /opt/anaconda3/include,\n",
      "      -fdebug-prefix-map=/var/folders/k1/30mswbxs7r1g6zwn8y4fyt500000gp/T/abs_a51i_mbs7m/croot/numpy_and_numpy_base_1708638620867/work=/usr/local/src/conda/numpy-base-1.26.4,\n",
      "      -fdebug-prefix-map=/opt/anaconda3=/usr/local/src/conda-prefix, -D_FORTIFY_SOURCE=2,\n",
      "      -isystem, /opt/anaconda3/include, -mmacosx-version-min=11.1\n",
      "    name: clang\n",
      "    version: 14.0.6\n",
      "  c++:\n",
      "    args: -ftree-vectorize, -fPIC, -fPIE, -fstack-protector-strong, -O2, -pipe, -stdlib=libc++,\n",
      "      -fvisibility-inlines-hidden, -fmessage-length=0, -isystem, /opt/anaconda3/include,\n",
      "      -fdebug-prefix-map=/var/folders/k1/30mswbxs7r1g6zwn8y4fyt500000gp/T/abs_a51i_mbs7m/croot/numpy_and_numpy_base_1708638620867/work=/usr/local/src/conda/numpy-base-1.26.4,\n",
      "      -fdebug-prefix-map=/opt/anaconda3=/usr/local/src/conda-prefix, -D_FORTIFY_SOURCE=2,\n",
      "      -isystem, /opt/anaconda3/include, -mmacosx-version-min=11.1\n",
      "    commands: arm64-apple-darwin20.0.0-clang++\n",
      "    linker: ld64\n",
      "    linker args: -Wl,-pie, -Wl,-headerpad_max_install_names, -Wl,-dead_strip_dylibs,\n",
      "      -Wl,-rpath,/opt/anaconda3/lib, -L/opt/anaconda3/lib, -ftree-vectorize, -fPIC,\n",
      "      -fPIE, -fstack-protector-strong, -O2, -pipe, -stdlib=libc++, -fvisibility-inlines-hidden,\n",
      "      -fmessage-length=0, -isystem, /opt/anaconda3/include, -fdebug-prefix-map=/var/folders/k1/30mswbxs7r1g6zwn8y4fyt500000gp/T/abs_a51i_mbs7m/croot/numpy_and_numpy_base_1708638620867/work=/usr/local/src/conda/numpy-base-1.26.4,\n",
      "      -fdebug-prefix-map=/opt/anaconda3=/usr/local/src/conda-prefix, -D_FORTIFY_SOURCE=2,\n",
      "      -isystem, /opt/anaconda3/include, -mmacosx-version-min=11.1\n",
      "    name: clang\n",
      "    version: 14.0.6\n",
      "  cython:\n",
      "    commands: cython\n",
      "    linker: cython\n",
      "    name: cython\n",
      "    version: 3.0.8\n",
      "Machine Information:\n",
      "  build:\n",
      "    cpu: aarch64\n",
      "    endian: little\n",
      "    family: aarch64\n",
      "    system: darwin\n",
      "  host:\n",
      "    cpu: aarch64\n",
      "    endian: little\n",
      "    family: aarch64\n",
      "    system: darwin\n",
      "Python Information:\n",
      "  path: /opt/anaconda3/bin/python\n",
      "  version: '3.12'\n",
      "SIMD Extensions:\n",
      "  baseline:\n",
      "  - NEON\n",
      "  - NEON_FP16\n",
      "  - NEON_VFPV4\n",
      "  - ASIMD\n",
      "  found:\n",
      "  - ASIMDHP\n",
      "  not found:\n",
      "  - ASIMDFHM\n",
      "\n",
      "print(np.__version__)\n",
      "np.show_config()\n"
     ]
    }
   ],
   "source": [
    "hint(2)\n",
    "print(np.__version__)\n",
    "np.show_config()\n",
    "answer(2)"
   ]
  },
  {
   "cell_type": "markdown",
   "id": "4490d971",
   "metadata": {},
   "source": [
    "#### 3. Create a null vector of size 10 (★☆☆)"
   ]
  },
  {
   "cell_type": "code",
   "execution_count": 35,
   "id": "9b383fcc",
   "metadata": {},
   "outputs": [
    {
     "name": "stdout",
     "output_type": "stream",
     "text": [
      "[0. 0. 0. 0. 0. 0. 0. 0. 0. 0.]\n"
     ]
    }
   ],
   "source": [
    "a = np.zeros(10)\n",
    "print(a)"
   ]
  },
  {
   "cell_type": "markdown",
   "id": "4a217c03",
   "metadata": {},
   "source": [
    "#### 4. How to find the memory size of any array (★☆☆)"
   ]
  },
  {
   "cell_type": "code",
   "execution_count": 69,
   "id": "7f7c6497",
   "metadata": {},
   "outputs": [
    {
     "name": "stdout",
     "output_type": "stream",
     "text": [
      "hint: size, itemsize\n",
      "800 bytes with a memory size of 8 and array size of 100\n"
     ]
    }
   ],
   "source": [
    "hint(4)\n",
    "Z = np.zeros((10, 10))\n",
    "print(\"%d bytes with a memory size of %d and array size of %d\" % (Z.size * Z.itemsize, Z.itemsize, Z.size))"
   ]
  },
  {
   "cell_type": "markdown",
   "id": "4a412447",
   "metadata": {},
   "source": [
    "#### 5. How to get the documentation of the numpy add function from the command line? (★☆☆)"
   ]
  },
  {
   "cell_type": "code",
   "execution_count": 187,
   "id": "9b19b55d",
   "metadata": {},
   "outputs": [
    {
     "name": "stdout",
     "output_type": "stream",
     "text": [
      "add(x1, x2, /, out=None, *, where=True, casting='same_kind', order='K', dtype=None, subok=True[, signature, extobj])\n",
      "\n",
      "Add arguments element-wise.\n",
      "\n",
      "Parameters\n",
      "----------\n",
      "x1, x2 : array_like\n",
      "    The arrays to be added.\n",
      "    If ``x1.shape != x2.shape``, they must be broadcastable to a common\n",
      "    shape (which becomes the shape of the output).\n",
      "out : ndarray, None, or tuple of ndarray and None, optional\n",
      "    A location into which the result is stored. If provided, it must have\n",
      "    a shape that the inputs broadcast to. If not provided or None,\n",
      "    a freshly-allocated array is returned. A tuple (possible only as a\n",
      "    keyword argument) must have length equal to the number of outputs.\n",
      "where : array_like, optional\n",
      "    This condition is broadcast over the input. At locations where the\n",
      "    condition is True, the `out` array will be set to the ufunc result.\n",
      "    Elsewhere, the `out` array will retain its original value.\n",
      "    Note that if an uninitialized `out` array is created via the default\n",
      "    ``out=None``, locations within it where the condition is False will\n",
      "    remain uninitialized.\n",
      "**kwargs\n",
      "    For other keyword-only arguments, see the\n",
      "    :ref:`ufunc docs <ufuncs.kwargs>`.\n",
      "\n",
      "Returns\n",
      "-------\n",
      "add : ndarray or scalar\n",
      "    The sum of `x1` and `x2`, element-wise.\n",
      "    This is a scalar if both `x1` and `x2` are scalars.\n",
      "\n",
      "Notes\n",
      "-----\n",
      "Equivalent to `x1` + `x2` in terms of array broadcasting.\n",
      "\n",
      "Examples\n",
      "--------\n",
      ">>> np.add(1.0, 4.0)\n",
      "5.0\n",
      ">>> x1 = np.arange(9.0).reshape((3, 3))\n",
      ">>> x2 = np.arange(3.0)\n",
      ">>> np.add(x1, x2)\n",
      "array([[  0.,   2.,   4.],\n",
      "       [  3.,   5.,   7.],\n",
      "       [  6.,   8.,  10.]])\n",
      "\n",
      "The ``+`` operator can be used as a shorthand for ``np.add`` on ndarrays.\n",
      "\n",
      ">>> x1 = np.arange(9.0).reshape((3, 3))\n",
      ">>> x2 = np.arange(3.0)\n",
      ">>> x1 + x2\n",
      "array([[ 0.,  2.,  4.],\n",
      "       [ 3.,  5.,  7.],\n",
      "       [ 6.,  8., 10.]])\n"
     ]
    }
   ],
   "source": [
    "!python -c \"import numpy as np; np.info(np.add)\""
   ]
  },
  {
   "cell_type": "markdown",
   "id": "8e890e32",
   "metadata": {},
   "source": [
    "#### 6. Create a null vector of size 10 but the fifth value which is 1 (★☆☆)"
   ]
  },
  {
   "cell_type": "code",
   "execution_count": 95,
   "id": "032ba316",
   "metadata": {},
   "outputs": [
    {
     "name": "stdout",
     "output_type": "stream",
     "text": [
      "[0. 0. 0. 0. 1. 0. 0. 0. 0. 0.]\n",
      "Z = np.zeros(10)\n",
      "Z[4] = 1\n",
      "print(Z)\n"
     ]
    }
   ],
   "source": [
    "n = np.zeros(10)\n",
    "n[4] = 1\n",
    "print(n)\n",
    "answer(6)"
   ]
  },
  {
   "cell_type": "markdown",
   "id": "36562b7f",
   "metadata": {},
   "source": [
    "#### 7. Create a vector with values ranging from 10 to 49 (★☆☆)"
   ]
  },
  {
   "cell_type": "code",
   "execution_count": 101,
   "id": "2f1ae242",
   "metadata": {},
   "outputs": [
    {
     "name": "stdout",
     "output_type": "stream",
     "text": [
      "Z = np.arange(10,50)\n",
      "print(Z)\n"
     ]
    }
   ],
   "source": [
    "np.arange(10, 50)\n",
    "answer(7)"
   ]
  },
  {
   "cell_type": "markdown",
   "id": "d7d0e7ff",
   "metadata": {},
   "source": [
    "#### 8. Reverse a vector (first element becomes last) (★☆☆)"
   ]
  },
  {
   "cell_type": "code",
   "execution_count": 117,
   "id": "5a07c5c1",
   "metadata": {},
   "outputs": [
    {
     "name": "stdout",
     "output_type": "stream",
     "text": [
      "[49 48 47 46 45 44 43 42 41 40 39 38 37 36 35 34 33 32 31 30 29 28 27 26\n",
      " 25 24 23 22 21 20 19 18 17 16 15 14 13 12 11 10  9  8  7  6  5  4  3  2\n",
      "  1  0]\n",
      "Z = np.arange(50)\n",
      "Z = Z[::-1]\n",
      "print(Z)\n"
     ]
    }
   ],
   "source": [
    "Z = np.arange(50)\n",
    "Z = Z[::-1]\n",
    "print(Z)\n",
    "answer(8)"
   ]
  },
  {
   "cell_type": "markdown",
   "id": "1fb509ab",
   "metadata": {},
   "source": [
    "#### 9. Create a 3x3 matrix with values ranging from 0 to 8 (★☆☆)"
   ]
  },
  {
   "cell_type": "code",
   "execution_count": 161,
   "id": "b4702eb8",
   "metadata": {},
   "outputs": [
    {
     "name": "stdout",
     "output_type": "stream",
     "text": [
      "[[0 1 2]\n",
      " [3 4 5]\n",
      " [6 7 8]]\n",
      "Z = np.arange(9).reshape(3, 3)\n",
      "print(Z)\n"
     ]
    }
   ],
   "source": [
    "A = np.arange(9).reshape(3, 3)\n",
    "print(A)\n",
    "answer(9)"
   ]
  },
  {
   "cell_type": "markdown",
   "id": "0d0120c4",
   "metadata": {},
   "source": [
    "#### 10. Find indices of non-zero elements from [1,2,0,0,4,0] (★☆☆)"
   ]
  },
  {
   "cell_type": "code",
   "execution_count": 453,
   "id": "ead69303",
   "metadata": {},
   "outputs": [
    {
     "data": {
      "text/plain": [
       "(array([0, 1, 4]),)"
      ]
     },
     "execution_count": 453,
     "metadata": {},
     "output_type": "execute_result"
    }
   ],
   "source": [
    "np.nonzero(np.array([1,2,0,0,4,0]))"
   ]
  },
  {
   "cell_type": "markdown",
   "id": "c001c117",
   "metadata": {},
   "source": [
    "#### 11. Create a 3x3 identity matrix (★☆☆)"
   ]
  },
  {
   "cell_type": "code",
   "execution_count": 202,
   "id": "e7f9417c",
   "metadata": {},
   "outputs": [
    {
     "name": "stdout",
     "output_type": "stream",
     "text": [
      "[[1. 0. 0.]\n",
      " [0. 1. 0.]\n",
      " [0. 0. 1.]]\n",
      "Z = np.eye(3)\n",
      "print(Z)\n"
     ]
    }
   ],
   "source": [
    "a = np.eye(3)\n",
    "print(a)\n",
    "answer(11)"
   ]
  },
  {
   "cell_type": "markdown",
   "id": "5f75e7a8",
   "metadata": {},
   "source": [
    "#### 12. Create a 3x3x3 array with random values (★☆☆)"
   ]
  },
  {
   "cell_type": "code",
   "execution_count": 214,
   "id": "ec3c59bb",
   "metadata": {},
   "outputs": [
    {
     "name": "stdout",
     "output_type": "stream",
     "text": [
      "hint: np.random.random\n",
      "[[[0.74966843 0.64238319 0.52835248]\n",
      "  [0.87606599 0.69793865 0.40999983]\n",
      "  [0.36729763 0.03871896 0.54549102]]\n",
      "\n",
      " [[0.10195325 0.07370172 0.04385409]\n",
      "  [0.43246616 0.67914476 0.78491378]\n",
      "  [0.27830244 0.3723075  0.87994704]]\n",
      "\n",
      " [[0.31204043 0.59789819 0.08809721]\n",
      "  [0.21497569 0.48286975 0.58284903]\n",
      "  [0.3128836  0.06282301 0.02830427]]]\n",
      "Z = np.random.random((3,3,3))\n",
      "print(Z)\n"
     ]
    }
   ],
   "source": [
    "hint(12)\n",
    "a = np.random.random((3, 3, 3))\n",
    "print(a)\n",
    "answer(12)"
   ]
  },
  {
   "cell_type": "markdown",
   "id": "7f012f49",
   "metadata": {},
   "source": [
    "#### 13. Create a 10x10 array with random values and find the minimum and maximum values (★☆☆)"
   ]
  },
  {
   "cell_type": "code",
   "execution_count": 232,
   "id": "8247cae0",
   "metadata": {},
   "outputs": [
    {
     "name": "stdout",
     "output_type": "stream",
     "text": [
      "[[0.33716152 0.79851627 0.32479491 0.90346685 0.4789972  0.40906219\n",
      "  0.72157125 0.90174233 0.38037887 0.4017847 ]\n",
      " [0.84610795 0.81167282 0.06711351 0.14231598 0.01252283 0.68906951\n",
      "  0.12179287 0.05285707 0.83082261 0.82223493]\n",
      " [0.16519888 0.00528084 0.98745496 0.66163559 0.80719965 0.17773981\n",
      "  0.79637721 0.90440186 0.37333334 0.28712314]\n",
      " [0.01251494 0.97076259 0.01031661 0.90692552 0.62804545 0.69250048\n",
      "  0.82878369 0.21333992 0.90309361 0.33731254]\n",
      " [0.83271489 0.49260518 0.73104551 0.85819231 0.21444598 0.45838434\n",
      "  0.84353075 0.40989232 0.10932331 0.65715374]\n",
      " [0.77262286 0.90491903 0.77162677 0.25007932 0.16256331 0.04815536\n",
      "  0.10126732 0.36116059 0.79520761 0.20477245]\n",
      " [0.26300287 0.21289477 0.56950914 0.47253482 0.68537886 0.74804333\n",
      "  0.92205635 0.74163629 0.57631837 0.34044568]\n",
      " [0.57307845 0.65370097 0.39444236 0.81770318 0.6137024  0.58230335\n",
      "  0.41296088 0.35216467 0.1421316  0.32649201]\n",
      " [0.03167959 0.98821046 0.72265312 0.98071858 0.25727138 0.29185602\n",
      "  0.62285637 0.95163062 0.50681914 0.91787822]\n",
      " [0.75228984 0.44155309 0.14944498 0.18329971 0.01952832 0.6715127\n",
      "  0.42087649 0.09447586 0.29180196 0.27419166]]\n",
      "The maximum value is 0.005281 and the minimum value is 0.988210\n",
      "Z = np.random.random((10,10))\n",
      "Zmin, Zmax = Z.min(), Z.max()\n",
      "print(Zmin, Zmax)\n"
     ]
    }
   ],
   "source": [
    "Z = np.random.random((10, 10))\n",
    "print(Z)\n",
    "print(\"The maximum value is %f and the minimum value is %f\" % (Z.min(), Z.max()))\n",
    "answer(13)"
   ]
  },
  {
   "cell_type": "markdown",
   "id": "7d976fd0",
   "metadata": {},
   "source": [
    "#### 14. Create a random vector of size 30 and find the mean value (★☆☆)"
   ]
  },
  {
   "cell_type": "code",
   "execution_count": 238,
   "id": "1d5c77fd",
   "metadata": {},
   "outputs": [
    {
     "name": "stdout",
     "output_type": "stream",
     "text": [
      "[0.82881806 0.8160218  0.79993376 0.57764421 0.5916715  0.64538235\n",
      " 0.84181861 0.5532621  0.0793125  0.08960916 0.60614285 0.41866719\n",
      " 0.50100833 0.26649589 0.32713475 0.19425734 0.65704309 0.55436433\n",
      " 0.44158312 0.84300667 0.26305882 0.98815959 0.54689228 0.23793368\n",
      " 0.27309299 0.93273311 0.60608728 0.51423863 0.49652247 0.03883259]\n",
      "0.5176909690565936\n",
      "Z = np.random.random(30)\n",
      "m = Z.mean()\n",
      "print(m)\n"
     ]
    }
   ],
   "source": [
    "Z = np.random.random(30)\n",
    "print(Z)\n",
    "print(Z.mean())\n",
    "answer(14)"
   ]
  },
  {
   "cell_type": "markdown",
   "id": "c5266946",
   "metadata": {},
   "source": [
    "#### 15. Create a 2d array with 1 on the border and 0 inside (★☆☆)"
   ]
  },
  {
   "cell_type": "code",
   "execution_count": 268,
   "id": "140eff80",
   "metadata": {},
   "outputs": [
    {
     "name": "stdout",
     "output_type": "stream",
     "text": [
      "[[1. 1. 1. 1. 1. 1. 1. 1. 1. 1.]\n",
      " [1. 0. 0. 0. 0. 0. 0. 0. 0. 1.]\n",
      " [1. 0. 0. 0. 0. 0. 0. 0. 0. 1.]\n",
      " [1. 0. 0. 0. 0. 0. 0. 0. 0. 1.]\n",
      " [1. 0. 0. 0. 0. 0. 0. 0. 0. 1.]\n",
      " [1. 0. 0. 0. 0. 0. 0. 0. 0. 1.]\n",
      " [1. 0. 0. 0. 0. 0. 0. 0. 0. 1.]\n",
      " [1. 0. 0. 0. 0. 0. 0. 0. 0. 1.]\n",
      " [1. 0. 0. 0. 0. 0. 0. 0. 0. 1.]\n",
      " [1. 1. 1. 1. 1. 1. 1. 1. 1. 1.]]\n",
      "Z = np.ones((10,10))\n",
      "Z[1:-1,1:-1] = 0\n",
      "print(Z)\n"
     ]
    }
   ],
   "source": [
    "Z = np.ones((10, 10))\n",
    "Z[1:-1, 1:-1] = 0\n",
    "print(Z)\n",
    "answer(15)"
   ]
  },
  {
   "cell_type": "markdown",
   "id": "2dd11b32",
   "metadata": {},
   "source": [
    "#### 16. How to add a border (filled with 0's) around an existing array? (★☆☆)"
   ]
  },
  {
   "cell_type": "code",
   "execution_count": 455,
   "id": "ab1d50a8",
   "metadata": {},
   "outputs": [
    {
     "name": "stdout",
     "output_type": "stream",
     "text": [
      "hint: np.pad\n",
      "[[0. 0. 0. 0. 0.]\n",
      " [0. 1. 1. 1. 0.]\n",
      " [0. 1. 1. 1. 0.]\n",
      " [0. 1. 1. 1. 0.]\n",
      " [0. 0. 0. 0. 0.]]\n",
      "Z = np.ones((5,5))\n",
      "Z = np.pad(Z, pad_width=1, mode='constant', constant_values=0)\n",
      "print(Z)\n",
      "\n",
      "# Using fancy indexing\n",
      "Z[:, [0, -1]] = 0\n",
      "Z[[0, -1], :] = 0\n",
      "print(Z)\n"
     ]
    }
   ],
   "source": [
    "hint(16)\n",
    "Z = np.ones((3, 3))\n",
    "Z = np.pad(Z, pad_width=1, mode='constant', constant_values=0)\n",
    "print(Z)\n",
    "answer(16)"
   ]
  },
  {
   "cell_type": "code",
   "execution_count": 451,
   "id": "e73430a7-8086-441c-b3e0-61354aefb9b6",
   "metadata": {},
   "outputs": [
    {
     "name": "stdout",
     "output_type": "stream",
     "text": [
      "[[0. 0. 0. 0. 0.]\n",
      " [0. 1. 1. 1. 0.]\n",
      " [0. 1. 1. 1. 0.]\n",
      " [0. 1. 1. 1. 0.]\n",
      " [0. 0. 0. 0. 0.]]\n"
     ]
    }
   ],
   "source": [
    "Z = np.ones((5, 5))\n",
    "Z[:, [0, -1]] = 0\n",
    "Z[[0, -1], :] = 0\n",
    "print(Z)"
   ]
  },
  {
   "cell_type": "markdown",
   "id": "a7c39246",
   "metadata": {},
   "source": [
    "#### 17. What is the result of the following expression? (★☆☆)\n",
    "```python\n",
    "0 * np.nan\n",
    "np.nan == np.nan\n",
    "np.inf > np.nan\n",
    "np.nan - np.nan\n",
    "np.nan in set([np.nan])\n",
    "0.3 == 3 * 0.1\n",
    "```"
   ]
  },
  {
   "cell_type": "code",
   "execution_count": 310,
   "id": "a5d790ca-642a-4076-9381-849790374ed5",
   "metadata": {},
   "outputs": [
    {
     "name": "stdout",
     "output_type": "stream",
     "text": [
      "nan\n",
      "False\n",
      "False\n",
      "nan\n",
      "True\n",
      "False\n",
      "print(0 * np.nan)\n",
      "print(np.nan == np.nan)\n",
      "print(np.inf > np.nan)\n",
      "print(np.nan - np.nan)\n",
      "print(np.nan in set([np.nan]))\n",
      "print(0.3 == 3 * 0.1)\n"
     ]
    }
   ],
   "source": [
    "print(0 * np.nan)\n",
    "print(np.nan == np.nan)\n",
    "print(np.inf > np.nan)\n",
    "print(np.nan - np.nan)\n",
    "print(np.nan in set([np.nan]))\n",
    "print(0.3 == 3 * 0.1)\n",
    "answer(17)"
   ]
  },
  {
   "cell_type": "markdown",
   "id": "757aff7a",
   "metadata": {},
   "source": [
    "#### 18. Create a 5x5 matrix with values 1,2,3,4 just below the diagonal (★☆☆)"
   ]
  },
  {
   "cell_type": "code",
   "execution_count": 485,
   "id": "fc9309c9",
   "metadata": {},
   "outputs": [
    {
     "name": "stdout",
     "output_type": "stream",
     "text": [
      "hint: np.diag\n",
      "[[0 0 0 0 0]\n",
      " [1 0 0 0 0]\n",
      " [0 2 0 0 0]\n",
      " [0 0 3 0 0]\n",
      " [0 0 0 4 0]]\n",
      "Z = np.diag(1+np.arange(4),k=-1)\n",
      "print(Z)\n"
     ]
    }
   ],
   "source": [
    "hint(18)\n",
    "Z = np.diag(np.arange(4)+1, k=-1)\n",
    "print(Z)\n",
    "answer(18)"
   ]
  },
  {
   "cell_type": "markdown",
   "id": "ae259b07",
   "metadata": {},
   "source": [
    "#### 19. Create a 8x8 matrix and fill it with a checkerboard pattern (★☆☆)"
   ]
  },
  {
   "cell_type": "code",
   "execution_count": 495,
   "id": "ceccc277",
   "metadata": {},
   "outputs": [
    {
     "name": "stdout",
     "output_type": "stream",
     "text": [
      "hint: array[::2]\n",
      "[[1. 0. 1. 0. 1. 0. 1. 0.]\n",
      " [0. 1. 0. 1. 0. 1. 0. 1.]\n",
      " [1. 0. 1. 0. 1. 0. 1. 0.]\n",
      " [0. 1. 0. 1. 0. 1. 0. 1.]\n",
      " [1. 0. 1. 0. 1. 0. 1. 0.]\n",
      " [0. 1. 0. 1. 0. 1. 0. 1.]\n",
      " [1. 0. 1. 0. 1. 0. 1. 0.]\n",
      " [0. 1. 0. 1. 0. 1. 0. 1.]]\n",
      "Z = np.zeros((8,8),dtype=int)\n",
      "Z[1::2,::2] = 1\n",
      "Z[::2,1::2] = 1\n",
      "print(Z)\n"
     ]
    }
   ],
   "source": [
    "hint(19)\n",
    "Z = np.zeros((8, 8))\n",
    "Z[::2, ::2] = 1\n",
    "Z[1::2, 1::2] = 1\n",
    "print(Z)\n",
    "answer(19)"
   ]
  },
  {
   "cell_type": "markdown",
   "id": "9f5d548e",
   "metadata": {},
   "source": [
    "#### 20. Consider a (6,7,8) shape array, what is the index (x,y,z) of the 100th element? (★☆☆)"
   ]
  },
  {
   "cell_type": "code",
   "execution_count": 37,
   "id": "ebf6fa3c",
   "metadata": {},
   "outputs": [
    {
     "name": "stdout",
     "output_type": "stream",
     "text": [
      "hint: np.unravel_index\n",
      "(1, 5, 3)\n",
      "print(np.unravel_index(99,(6,7,8)))\n"
     ]
    }
   ],
   "source": [
    "hint(20)\n",
    "Z = np.ones((6, 7, 8))\n",
    "print(np.unravel_index(99, (6, 7, 8)))\n",
    "answer(20)"
   ]
  },
  {
   "cell_type": "markdown",
   "id": "e1fe826b",
   "metadata": {},
   "source": [
    "#### 21. Create a checkerboard 8x8 matrix using the tile function (★☆☆)"
   ]
  },
  {
   "cell_type": "code",
   "execution_count": 67,
   "id": "7cbd262a",
   "metadata": {},
   "outputs": [
    {
     "name": "stdout",
     "output_type": "stream",
     "text": [
      "[[0 1 0 1 0 1 0 1]\n",
      " [1 0 1 0 1 0 1 0]\n",
      " [0 1 0 1 0 1 0 1]\n",
      " [1 0 1 0 1 0 1 0]\n",
      " [0 1 0 1 0 1 0 1]\n",
      " [1 0 1 0 1 0 1 0]\n",
      " [0 1 0 1 0 1 0 1]\n",
      " [1 0 1 0 1 0 1 0]]\n",
      "Z = np.tile( np.array([[0,1],[1,0]]), (4,4))\n",
      "print(Z)\n"
     ]
    }
   ],
   "source": [
    "Z = np.tile(np.array([[0, 1], [1, 0]]), (4, 4))\n",
    "print(Z)\n",
    "answer(21)"
   ]
  },
  {
   "cell_type": "markdown",
   "id": "3cc99a9e",
   "metadata": {},
   "source": [
    "#### 22. Normalize a 5x5 random matrix (★☆☆)"
   ]
  },
  {
   "cell_type": "code",
   "execution_count": 75,
   "id": "96ec3796",
   "metadata": {},
   "outputs": [
    {
     "name": "stdout",
     "output_type": "stream",
     "text": [
      "[[ 0.35481097 -1.76965312 -0.09994452 -1.33575145 -0.28722029]\n",
      " [-0.83938417 -0.68812218  0.7560717  -1.48671732  1.16447526]\n",
      " [-0.32536445  0.43506225 -0.85429726  1.31413101 -0.28650095]\n",
      " [ 0.49852979  0.45984087  1.33114832  1.34787168 -0.81476356]\n",
      " [ 0.54336815  1.11753454  1.45272483 -1.82242498 -0.16542511]]\n",
      "Z = np.random.random((5,5))\n",
      "Z = (Z - np.mean (Z)) / (np.std (Z))\n",
      "print(Z)\n"
     ]
    }
   ],
   "source": [
    "Z = np.random.random((5, 5))\n",
    "normalizedZ = (Z - np.mean(Z)) /  (np.std(Z))\n",
    "print(normalizedZ)\n",
    "answer(22)"
   ]
  },
  {
   "cell_type": "markdown",
   "id": "3cefb279",
   "metadata": {},
   "source": [
    "#### 23. Create a custom dtype that describes a color as four unsigned bytes (RGBA) (★☆☆)"
   ]
  },
  {
   "cell_type": "code",
   "execution_count": 95,
   "id": "dd9e9191-42e1-42e9-9857-c62699315395",
   "metadata": {},
   "outputs": [
    {
     "name": "stdout",
     "output_type": "stream",
     "text": [
      "[(100, 200, 200, 0)]\n",
      "color = np.dtype([(\"r\", np.ubyte),\n",
      "                  (\"g\", np.ubyte),\n",
      "                  (\"b\", np.ubyte),\n",
      "                  (\"a\", np.ubyte)])\n"
     ]
    }
   ],
   "source": [
    "dt = np.dtype([(\"R\", \"ubyte\"), (\"G\", \"ubyte\"), (\"B\", \"ubyte\"), (\"A\", \"ubyte\")])\n",
    "Z = np.array([(100, 200, 200, 0.8)], dtype=dt)\n",
    "print(Z)\n",
    "answer(23)"
   ]
  },
  {
   "cell_type": "markdown",
   "id": "04177bf2",
   "metadata": {},
   "source": [
    "#### 24. Multiply a 5x3 matrix by a 3x2 matrix (real matrix product) (★☆☆)"
   ]
  },
  {
   "cell_type": "code",
   "execution_count": 101,
   "id": "25c78847",
   "metadata": {},
   "outputs": [
    {
     "name": "stdout",
     "output_type": "stream",
     "text": [
      "[[0.66979442 0.64731678]\n",
      " [0.5613587  0.59301126]\n",
      " [1.29481098 1.2133308 ]\n",
      " [1.37401181 1.3447371 ]\n",
      " [0.48272144 0.48916236]]\n",
      "Z = np.matmul(np.ones((5, 3)), np.ones((3, 2)))\n",
      "print(Z)\n",
      "\n",
      "# Alternative solution, in Python 3.5 and above\n",
      "Z = np.ones((5,3)) @ np.ones((3,2))\n",
      "print(Z)\n"
     ]
    }
   ],
   "source": [
    "A = np.random.random((5, 3))\n",
    "B = np.random.random((3, 2))\n",
    "Z = A @ B\n",
    "print(Z)\n",
    "answer(24)"
   ]
  },
  {
   "cell_type": "markdown",
   "id": "14a38540",
   "metadata": {},
   "source": [
    "#### 25. Given a 1D array, negate all elements which are between 3 and 8, in place. (★☆☆)"
   ]
  },
  {
   "cell_type": "code",
   "execution_count": 195,
   "id": "85a57a73",
   "metadata": {},
   "outputs": [
    {
     "name": "stdout",
     "output_type": "stream",
     "text": [
      "[ 0  1  2  3 -4 -5 -6 -7  8  9 10 11 12 13 14 15 16 17 18 19]\n",
      "# Author: Evgeni Burovski\n",
      "\n",
      "Z = np.arange(11)\n",
      "Z[(3 < Z) & (Z < 8)] *= -1\n",
      "print(Z)\n"
     ]
    }
   ],
   "source": [
    "A = np.arange(20)\n",
    "A[(3 < A) & (A < 8)] *= -1\n",
    "print(A)\n",
    "answer(25)"
   ]
  },
  {
   "cell_type": "markdown",
   "id": "bb586fda",
   "metadata": {},
   "source": [
    "#### 26. What is the output of the following script? (★☆☆)\n",
    "```python\n",
    "# Author: Jake VanderPlas\n",
    "\n",
    "print(sum(range(5),-1))\n",
    "from numpy import *\n",
    "print(sum(range(5),-1))\n",
    "```"
   ]
  },
  {
   "cell_type": "code",
   "execution_count": 107,
   "id": "5094a699",
   "metadata": {},
   "outputs": [
    {
     "name": "stdout",
     "output_type": "stream",
     "text": [
      "9\n",
      "10\n"
     ]
    }
   ],
   "source": [
    "print(sum(range(5),-1))\n",
    "print(np.sum(range(5),-1))"
   ]
  },
  {
   "cell_type": "markdown",
   "id": "198cdc05",
   "metadata": {},
   "source": [
    "#### 27. Consider an integer vector Z, which of these expressions are legal? (★☆☆)\n",
    "```python\n",
    "Z**Z\n",
    "2 << Z >> 2\n",
    "Z <- Z\n",
    "1j*Z\n",
    "Z/1/1\n",
    "Z<Z>Z\n",
    "```"
   ]
  },
  {
   "cell_type": "code",
   "execution_count": 224,
   "id": "a4195583",
   "metadata": {},
   "outputs": [],
   "source": [
    "# 2 << Z << 2\n",
    "# Z <- Z\n",
    "# 1j*Z\n",
    "# Z/1/1"
   ]
  },
  {
   "cell_type": "markdown",
   "id": "d83bb54b",
   "metadata": {},
   "source": [
    "#### 28. What are the result of the following expressions? (★☆☆)\n",
    "```python\n",
    "np.array(0) / np.array(0)\n",
    "np.array(0) // np.array(0)\n",
    "np.array([np.nan]).astype(int).astype(float)\n",
    "```"
   ]
  },
  {
   "cell_type": "code",
   "execution_count": 232,
   "id": "277bd109",
   "metadata": {},
   "outputs": [],
   "source": [
    "# nan\n",
    "# 0\n",
    "# array([0.])"
   ]
  },
  {
   "cell_type": "markdown",
   "id": "415d2d18",
   "metadata": {},
   "source": [
    "#### 29. How to round away from zero a float array ? (★☆☆)"
   ]
  },
  {
   "cell_type": "code",
   "execution_count": 268,
   "id": "63df40b7",
   "metadata": {},
   "outputs": [
    {
     "name": "stdout",
     "output_type": "stream",
     "text": [
      "hint: np.uniform, np.copysign, np.ceil, np.abs, np.where\n",
      "[-4.  7. -7. -1.  4.  6.  5.  7.  7.  7.]\n",
      "# Author: Charles R Harris\n",
      "\n",
      "Z = np.random.uniform(-10,+10,10)\n",
      "print(np.copysign(np.ceil(np.abs(Z)), Z))\n",
      "\n",
      "# More readable but less efficient\n",
      "print(np.where(Z>0, np.ceil(Z), np.floor(Z)))\n"
     ]
    }
   ],
   "source": [
    "hint(29)\n",
    "Z = np.random.uniform(-10, 10, 10)\n",
    "Z = np.copysign(np.ceil(np.abs(Z)), Z)\n",
    "print(Z)\n",
    "answer(29)"
   ]
  },
  {
   "cell_type": "markdown",
   "id": "40ddc32c",
   "metadata": {},
   "source": [
    "#### 30. How to find common values between two arrays? (★☆☆)"
   ]
  },
  {
   "cell_type": "code",
   "execution_count": 282,
   "id": "e4e221c3",
   "metadata": {},
   "outputs": [
    {
     "name": "stdout",
     "output_type": "stream",
     "text": [
      "[1 2 4] [0 2 4] [1 0 2]\n"
     ]
    }
   ],
   "source": [
    "x = np.array([1, 1, 2, 3, 4])\n",
    "y = np.array([2, 1, 4, 6])\n",
    "xy, x_ind, y_ind = np.intersect1d(x, y, return_indices=True)\n",
    "print(xy, x_ind, y_ind)"
   ]
  },
  {
   "cell_type": "markdown",
   "id": "96a2b00a",
   "metadata": {},
   "source": [
    "#### 31. How to ignore all numpy warnings (not recommended)? (★☆☆)"
   ]
  },
  {
   "cell_type": "code",
   "execution_count": 296,
   "id": "97517a73",
   "metadata": {},
   "outputs": [
    {
     "name": "stdout",
     "output_type": "stream",
     "text": [
      "hint: np.seterr, np.errstate\n",
      "# Suicide mode on\n",
      "defaults = np.seterr(all=\"ignore\")\n",
      "Z = np.ones(1) / 0\n",
      "\n",
      "# Back to sanity\n",
      "_ = np.seterr(**defaults)\n",
      "\n",
      "# Equivalently with a context manager\n",
      "with np.errstate(all=\"ignore\"):\n",
      "    np.arange(3) / 0\n"
     ]
    }
   ],
   "source": [
    "hint(31)\n",
    "defaults = np.seterr(all=\"ignore\")\n",
    "Z = np.ones(1) / 0\n",
    "_ = np.seterr(**defaults)\n",
    "answer(31)"
   ]
  },
  {
   "cell_type": "markdown",
   "id": "5164e541",
   "metadata": {},
   "source": [
    "#### 32. Is the following expressions true? (★☆☆)\n",
    "```python\n",
    "np.sqrt(-1) == np.emath.sqrt(-1)\n",
    "```"
   ]
  },
  {
   "cell_type": "code",
   "execution_count": 304,
   "id": "c05aab40",
   "metadata": {},
   "outputs": [
    {
     "data": {
      "text/plain": [
       "False"
      ]
     },
     "execution_count": 304,
     "metadata": {},
     "output_type": "execute_result"
    }
   ],
   "source": [
    "np.sqrt(-1) == np.emath.sqrt(-1)\n",
    "# one gives nan and the other gives 1j"
   ]
  },
  {
   "cell_type": "markdown",
   "id": "6ff7fdf8",
   "metadata": {},
   "source": [
    "#### 33. How to get the dates of yesterday, today and tomorrow? (★☆☆)"
   ]
  },
  {
   "cell_type": "code",
   "execution_count": 314,
   "id": "6156213d",
   "metadata": {},
   "outputs": [
    {
     "name": "stdout",
     "output_type": "stream",
     "text": [
      "hint: np.datetime64, np.timedelta64\n",
      "2025-06-28\n",
      "2025-06-27\n",
      "2025-06-29\n"
     ]
    }
   ],
   "source": [
    "hint(33)\n",
    "today = np.datetime64(\"today\")\n",
    "yesterday = today - np.timedelta64(1)\n",
    "tomorrow = today + np.timedelta64(1)\n",
    "print(today)\n",
    "print(yesterday)\n",
    "print(tomorrow)"
   ]
  },
  {
   "cell_type": "markdown",
   "id": "97dde2a7",
   "metadata": {},
   "source": [
    "#### 34. How to get all the dates corresponding to the month of July 2016? (★★☆)"
   ]
  },
  {
   "cell_type": "code",
   "execution_count": 330,
   "id": "249806a3",
   "metadata": {},
   "outputs": [
    {
     "name": "stdout",
     "output_type": "stream",
     "text": [
      "['2016-07-01' '2016-07-02' '2016-07-03' '2016-07-04' '2016-07-05'\n",
      " '2016-07-06' '2016-07-07' '2016-07-08' '2016-07-09' '2016-07-10'\n",
      " '2016-07-11' '2016-07-12' '2016-07-13' '2016-07-14' '2016-07-15'\n",
      " '2016-07-16' '2016-07-17' '2016-07-18' '2016-07-19' '2016-07-20'\n",
      " '2016-07-21' '2016-07-22' '2016-07-23' '2016-07-24' '2016-07-25'\n",
      " '2016-07-26' '2016-07-27' '2016-07-28' '2016-07-29' '2016-07-30'\n",
      " '2016-07-31']\n"
     ]
    }
   ],
   "source": [
    "Z = np.arange(\"2016-07\", \"2016-08\", dtype=\"datetime64[D]\")\n",
    "print(Z)"
   ]
  },
  {
   "cell_type": "markdown",
   "id": "78f4ad65",
   "metadata": {},
   "source": [
    "#### 35. How to compute ((A+B)*(-A/2)) in place (without copy)? (★★☆)"
   ]
  },
  {
   "cell_type": "code",
   "execution_count": 352,
   "id": "d9bee25c",
   "metadata": {},
   "outputs": [
    {
     "name": "stdout",
     "output_type": "stream",
     "text": [
      "A = np.ones(3)*1\n",
      "B = np.ones(3)*2\n",
      "np.add(A,B,out=B)\n",
      "np.divide(A,2,out=A)\n",
      "np.negative(A,out=A)\n",
      "np.multiply(A,B,out=A)\n"
     ]
    }
   ],
   "source": [
    "A = np.ones(3)*1\n",
    "B = np.ones(3)*2\n",
    "np.add(A, B, out=B)\n",
    "np.divide(A, 2, out=A)\n",
    "np.negative(A, out=A)\n",
    "np.multiply(B, A, out=A)\n",
    "answer(35)"
   ]
  },
  {
   "cell_type": "markdown",
   "id": "1a194d91",
   "metadata": {},
   "source": [
    "#### 36. Extract the integer part of a random array of positive numbers using 4 different methods (★★☆)"
   ]
  },
  {
   "cell_type": "code",
   "execution_count": 399,
   "id": "46a4ab0a",
   "metadata": {},
   "outputs": [
    {
     "name": "stdout",
     "output_type": "stream",
     "text": [
      "hint: %, np.floor, astype, np.trunc\n",
      "[7. 3. 1. 8. 0. 2. 7. 6. 0. 3.]\n",
      "[7. 3. 1. 8. 0. 2. 7. 6. 0. 3.]\n",
      "[7. 3. 1. 8. 0. 2. 7. 6. 0. 3.]\n",
      "[7 3 1 8 0 2 7 6 0 3]\n",
      "[7. 3. 1. 8. 0. 2. 7. 6. 0. 3.]\n",
      "Z = np.random.uniform(0,10,10)\n",
      "\n",
      "print(Z - Z%1)\n",
      "print(Z // 1)\n",
      "print(np.floor(Z))\n",
      "print(Z.astype(int))\n",
      "print(np.trunc(Z))\n"
     ]
    }
   ],
   "source": [
    "hint(36)\n",
    "Z = np.random.uniform(0, 10, 10)\n",
    "print(Z - (Z % 1))\n",
    "print(Z // 1)\n",
    "print(np.floor(Z))\n",
    "print(Z.astype('int'))\n",
    "print(np.trunc(Z))\n",
    "answer(36)"
   ]
  },
  {
   "cell_type": "markdown",
   "id": "23a9130d",
   "metadata": {},
   "source": [
    "#### 37. Create a 5x5 matrix with row values ranging from 0 to 4 (★★☆)"
   ]
  },
  {
   "cell_type": "code",
   "execution_count": 425,
   "id": "8a08a042",
   "metadata": {},
   "outputs": [
    {
     "name": "stdout",
     "output_type": "stream",
     "text": [
      "(5, 1)\n",
      "(1, 5)\n",
      "[[0. 1. 2. 3. 4.]\n",
      " [0. 1. 2. 3. 4.]\n",
      " [0. 1. 2. 3. 4.]\n",
      " [0. 1. 2. 3. 4.]\n",
      " [0. 1. 2. 3. 4.]]\n",
      "Z = np.zeros((5,5))\n",
      "Z += np.arange(5)\n",
      "print(Z)\n",
      "\n",
      "# without broadcasting\n",
      "Z = np.tile(np.arange(0, 5), (5,1))\n",
      "print(Z)\n"
     ]
    }
   ],
   "source": [
    "A = np.ones((5, 1))\n",
    "B = np.arange(0, 5).reshape((1, 5))\n",
    "print(A.shape)\n",
    "print(B.shape)\n",
    "print(A @ B)\n",
    "answer(37)"
   ]
  },
  {
   "cell_type": "code",
   "execution_count": 427,
   "id": "09fd4663-5f2c-4a55-84d4-a5319cfd1b8e",
   "metadata": {},
   "outputs": [
    {
     "name": "stdout",
     "output_type": "stream",
     "text": [
      "[[0. 1. 2. 3. 4.]\n",
      " [0. 1. 2. 3. 4.]\n",
      " [0. 1. 2. 3. 4.]\n",
      " [0. 1. 2. 3. 4.]\n",
      " [0. 1. 2. 3. 4.]]\n"
     ]
    }
   ],
   "source": [
    "Z = np.zeros((5, 5))\n",
    "Z += np.arange(5)\n",
    "print(Z)"
   ]
  },
  {
   "cell_type": "markdown",
   "id": "e225eafa",
   "metadata": {},
   "source": [
    "#### 38. Consider a generator function that generates 10 integers and use it to build an array (★☆☆)"
   ]
  },
  {
   "cell_type": "code",
   "execution_count": 437,
   "id": "7c2acc82",
   "metadata": {},
   "outputs": [
    {
     "name": "stdout",
     "output_type": "stream",
     "text": [
      "hint: np.fromiter\n",
      "[0. 1. 2. 3. 4. 5. 6. 7. 8. 9.]\n",
      "def generate():\n",
      "    for x in range(10):\n",
      "        yield x\n",
      "Z = np.fromiter(generate(),dtype=float,count=-1)\n",
      "print(Z)\n"
     ]
    }
   ],
   "source": [
    "hint(38)\n",
    "iterable = (i for i in range(10))\n",
    "print(np.fromiter(iterable, dtype=float, count=-1))\n",
    "answer(38)"
   ]
  },
  {
   "cell_type": "markdown",
   "id": "2f61a8f5",
   "metadata": {},
   "source": [
    "#### 39. Create a vector of size 10 with values ranging from 0 to 1, both excluded (★★☆)"
   ]
  },
  {
   "cell_type": "code",
   "execution_count": 449,
   "id": "ef7bc11c",
   "metadata": {},
   "outputs": [
    {
     "name": "stdout",
     "output_type": "stream",
     "text": [
      "hint: np.linspace\n",
      "[0.09090909 0.18181818 0.27272727 0.36363636 0.45454545 0.54545455\n",
      " 0.63636364 0.72727273 0.81818182 0.90909091]\n",
      "Z = np.linspace(0,1,11,endpoint=False)[1:]\n",
      "print(Z)\n"
     ]
    }
   ],
   "source": [
    "hint(39)\n",
    "Z = np.linspace(0, 1, num=11, endpoint=False)[1:]\n",
    "print(Z)\n",
    "answer(39)"
   ]
  },
  {
   "cell_type": "markdown",
   "id": "d5ae0694",
   "metadata": {},
   "source": [
    "#### 40. Create a random vector of size 10 and sort it (★★☆)"
   ]
  },
  {
   "cell_type": "code",
   "execution_count": 455,
   "id": "0b5a407d",
   "metadata": {},
   "outputs": [
    {
     "name": "stdout",
     "output_type": "stream",
     "text": [
      "[0 1 1 1 3 4 6 7 7 7]\n",
      "Z = np.random.random(10)\n",
      "Z.sort()\n",
      "print(Z)\n"
     ]
    }
   ],
   "source": [
    "Z = np.random.uniform(0, 10, 10).astype(\"int\")\n",
    "print(np.sort(Z))\n",
    "answer(40)"
   ]
  },
  {
   "cell_type": "markdown",
   "id": "1a355962",
   "metadata": {},
   "source": [
    "#### 41. How to sum a small array faster than np.sum? (★★☆)"
   ]
  },
  {
   "cell_type": "code",
   "execution_count": 519,
   "id": "70917f47",
   "metadata": {},
   "outputs": [
    {
     "name": "stdout",
     "output_type": "stream",
     "text": [
      "hint: np.add.reduce\n",
      "[2 4]\n",
      "6\n",
      "# Author: Evgeni Burovski\n",
      "\n",
      "Z = np.arange(10)\n",
      "np.add.reduce(Z)\n"
     ]
    }
   ],
   "source": [
    "hint(41)\n",
    "A = np.arange(4).reshape(2, 2)\n",
    "print(np.add.reduce(A))\n",
    "B = np.arange(4)\n",
    "print(np.sum(B))\n",
    "answer(41)"
   ]
  },
  {
   "cell_type": "markdown",
   "id": "42e65d4e",
   "metadata": {},
   "source": [
    "#### 42. Consider two random arrays A and B, check if they are equal (★★☆)"
   ]
  },
  {
   "cell_type": "code",
   "execution_count": 521,
   "id": "c4ae0c00",
   "metadata": {},
   "outputs": [
    {
     "name": "stdout",
     "output_type": "stream",
     "text": [
      "True\n",
      "False\n",
      "A = np.random.randint(0,2,5)\n",
      "B = np.random.randint(0,2,5)\n",
      "\n",
      "# Assuming identical shape of the arrays and a tolerance for the comparison of values\n",
      "equal = np.allclose(A,B)\n",
      "print(equal)\n",
      "\n",
      "# Checking both the shape and the element values, no tolerance (values have to be exactly equal)\n",
      "equal = np.array_equal(A,B)\n",
      "print(equal)\n"
     ]
    }
   ],
   "source": [
    "A = [[1e10, 2e-9], [1, 2]]\n",
    "B = [[1e10, 2e-10], [1, 2]]\n",
    "print(np.allclose(A, B))\n",
    "print(np.array_equal(A, B))\n",
    "answer(42)"
   ]
  },
  {
   "cell_type": "markdown",
   "id": "37c295dd",
   "metadata": {},
   "source": [
    "#### 43. Make an array immutable (read-only) (★★☆)"
   ]
  },
  {
   "cell_type": "code",
   "execution_count": 525,
   "id": "5a2cf158",
   "metadata": {},
   "outputs": [
    {
     "name": "stdout",
     "output_type": "stream",
     "text": [
      "Z = np.zeros(10)\n",
      "Z.flags.writeable = False\n",
      "Z[0] = 1\n"
     ]
    }
   ],
   "source": [
    "A = np.arange(0, 4)\n",
    "A.flags.writeable = False\n",
    "# A[0] = 3\n",
    "answer(43)"
   ]
  },
  {
   "cell_type": "markdown",
   "id": "e92096de",
   "metadata": {},
   "source": [
    "#### 44. Consider a random 10x2 matrix representing cartesian coordinates, convert them to polar coordinates (★★☆)"
   ]
  },
  {
   "cell_type": "code",
   "execution_count": 555,
   "id": "7d4f2602",
   "metadata": {},
   "outputs": [
    {
     "name": "stdout",
     "output_type": "stream",
     "text": [
      "[[ 8.22898032  0.41885085]\n",
      " [ 4.73071951  0.21552519]\n",
      " [10.96465251  0.44310219]\n",
      " [12.38721486  0.88564986]\n",
      " [ 5.6373671   1.03676901]\n",
      " [ 9.97779401  1.5595553 ]\n",
      " [ 7.51026351  1.35868808]\n",
      " [ 8.14610264  1.48347588]\n",
      " [11.4580392   0.64058468]\n",
      " [ 8.91732748  1.2189077 ]]\n",
      "Z = np.random.random((10,2))\n",
      "X,Y = Z[:,0], Z[:,1]\n",
      "R = np.sqrt(X**2+Y**2)\n",
      "T = np.arctan2(Y,X)\n",
      "print(R)\n",
      "print(T)\n"
     ]
    }
   ],
   "source": [
    "A = np.random.uniform(0, 10, (10, 2))\n",
    "r = np.hypot(A[:,0], A[:,1])\n",
    "theta = np.arctan2(A[:,1], A[:,0])\n",
    "Z = np.column_stack((r, theta))\n",
    "print(Z)\n",
    "answer(44)"
   ]
  },
  {
   "cell_type": "markdown",
   "id": "a71d88ea",
   "metadata": {},
   "source": [
    "#### 45. Create random vector of size 10 and replace the maximum value by 0 (★★☆)"
   ]
  },
  {
   "cell_type": "code",
   "execution_count": 573,
   "id": "1298225a",
   "metadata": {},
   "outputs": [
    {
     "name": "stdout",
     "output_type": "stream",
     "text": [
      "[0.48667354 0.69837599 0.59113062 0.         0.26820083 0.53252456\n",
      " 0.26141999 0.35431465 0.10564063 0.63628491]\n",
      "Z = np.random.random(10)\n",
      "Z[Z.argmax()] = 0\n",
      "print(Z)\n"
     ]
    }
   ],
   "source": [
    "A = np.random.random(10)\n",
    "A[np.argmax(A)] = 0\n",
    "print(A)\n",
    "answer(45)"
   ]
  },
  {
   "cell_type": "markdown",
   "id": "261c253c",
   "metadata": {},
   "source": [
    "#### 46. Create a structured array with `x` and `y` coordinates covering the [0,1]x[0,1] area (★★☆)"
   ]
  },
  {
   "cell_type": "code",
   "execution_count": 636,
   "id": "9150a4a1",
   "metadata": {},
   "outputs": [
    {
     "name": "stdout",
     "output_type": "stream",
     "text": [
      "[[(0.  , 0.  ) (0.25, 0.  ) (0.5 , 0.  ) (0.75, 0.  ) (1.  , 0.  )]\n",
      " [(0.  , 0.25) (0.25, 0.25) (0.5 , 0.25) (0.75, 0.25) (1.  , 0.25)]\n",
      " [(0.  , 0.5 ) (0.25, 0.5 ) (0.5 , 0.5 ) (0.75, 0.5 ) (1.  , 0.5 )]\n",
      " [(0.  , 0.75) (0.25, 0.75) (0.5 , 0.75) (0.75, 0.75) (1.  , 0.75)]\n",
      " [(0.  , 1.  ) (0.25, 1.  ) (0.5 , 1.  ) (0.75, 1.  ) (1.  , 1.  )]]\n",
      "Z = np.zeros((5,5), [('x',float),('y',float)])\n",
      "Z['x'], Z['y'] = np.meshgrid(np.linspace(0,1,5),\n",
      "                             np.linspace(0,1,5))\n",
      "print(Z)\n"
     ]
    }
   ],
   "source": [
    "Z = np.zeros((5,5), [('x', float),('y', float)])\n",
    "Z['x'], Z['y'] = np.meshgrid(np.linspace(0, 1, 5), np.linspace(0, 1, 5))\n",
    "print(Z)\n",
    "answer(46)"
   ]
  },
  {
   "cell_type": "markdown",
   "id": "265deebd",
   "metadata": {},
   "source": [
    "#### 47. Given two arrays, X and Y, construct the Cauchy matrix C (Cij =1/(xi - yj)) (★★☆)"
   ]
  },
  {
   "cell_type": "code",
   "execution_count": 664,
   "id": "9fad2a0d",
   "metadata": {},
   "outputs": [
    {
     "name": "stdout",
     "output_type": "stream",
     "text": [
      "[[  1.20260609  53.54009172  33.17644098 -95.05085764   1.40116974]\n",
      " [  2.35829591  -2.57191804  -2.65005541  -2.39226921   3.265872  ]\n",
      " [  2.77121238  -2.21240415  -2.26997903  -2.07815846   4.11497518]\n",
      " [  1.5959079   -5.36920538  -5.72137956  -4.64154346   1.96554588]\n",
      " [  1.61855161  -5.12784912  -5.44812876  -4.46006828   2.00000689]]\n",
      "# Author: Evgeni Burovski\n",
      "\n",
      "X = np.arange(8)\n",
      "Y = X + 0.5\n",
      "C = 1.0 / np.subtract.outer(X, Y)\n",
      "print(np.linalg.det(C))\n"
     ]
    }
   ],
   "source": [
    "x = np.random.random(5)\n",
    "y = np.random.random(5)\n",
    "C = 1.0 / (np.subtract.outer(x, y) + 1e-10)\n",
    "print(C)\n",
    "answer(47)"
   ]
  },
  {
   "cell_type": "markdown",
   "id": "f9007f53",
   "metadata": {},
   "source": [
    "#### 48. Print the minimum and maximum representable values for each numpy scalar type (★★☆)"
   ]
  },
  {
   "cell_type": "code",
   "execution_count": 704,
   "id": "2a97c51a",
   "metadata": {},
   "outputs": [
    {
     "name": "stdout",
     "output_type": "stream",
     "text": [
      "hint: np.iinfo, np.finfo, eps\n",
      "-32768\n",
      "32767\n",
      "-1.7976931348623157e+308\n",
      "1.7976931348623157e+308\n",
      "2.220446049250313e-16\n",
      "for dtype in [np.int8, np.int32, np.int64]:\n",
      "   print(np.iinfo(dtype).min)\n",
      "   print(np.iinfo(dtype).max)\n",
      "for dtype in [np.float32, np.float64]:\n",
      "   print(np.finfo(dtype).min)\n",
      "   print(np.finfo(dtype).max)\n",
      "   print(np.finfo(dtype).eps)\n"
     ]
    }
   ],
   "source": [
    "hint(48)\n",
    "print(np.iinfo(np.int16).min)\n",
    "print(np.iinfo(np.int16).max)\n",
    "print(np.finfo(np.float64).min)\n",
    "print(np.finfo(np.float64).max)\n",
    "print(np.finfo(np.float64).eps)\n",
    "answer(48)\n",
    "# np.int8, np.int32, np.int64\n",
    "# np.float32, np.float64"
   ]
  },
  {
   "cell_type": "markdown",
   "id": "5130ea82",
   "metadata": {},
   "source": [
    "#### 49. How to print all the values of an array? (★★☆)"
   ]
  },
  {
   "cell_type": "code",
   "execution_count": 692,
   "id": "4636aa7a",
   "metadata": {},
   "outputs": [
    {
     "name": "stdout",
     "output_type": "stream",
     "text": [
      "[[7.042e-02 1.792e-01 3.846e-01 5.960e-01 1.734e-01 8.774e-01 2.247e-01\n",
      "  3.384e-01 5.090e-01 7.104e-01]\n",
      " [7.776e-01 2.878e-02 9.134e-01 7.624e-02 2.435e-01 1.071e-01 2.628e-02\n",
      "  3.215e-01 7.337e-01 3.363e-01]\n",
      " [8.321e-01 1.104e-01 6.982e-01 2.237e-01 9.766e-01 9.088e-01 4.057e-01\n",
      "  5.610e-01 3.273e-01 2.878e-02]\n",
      " [1.982e-01 7.077e-01 6.953e-01 1.277e-01 9.267e-01 8.143e-02 2.796e-01\n",
      "  4.002e-01 7.391e-01 6.350e-01]\n",
      " [5.161e-01 7.413e-02 8.007e-01 5.332e-01 2.290e-01 6.203e-01 4.495e-01\n",
      "  7.586e-01 3.299e-01 9.672e-01]\n",
      " [6.083e-01 1.785e-01 3.678e-01 5.281e-01 4.904e-02 7.467e-04 5.208e-01\n",
      "  8.843e-02 9.266e-01 1.859e-01]\n",
      " [5.544e-01 7.456e-01 7.628e-01 4.098e-01 8.380e-01 8.052e-01 8.323e-01\n",
      "  8.009e-01 8.163e-01 5.018e-02]\n",
      " [5.673e-01 3.294e-01 6.394e-01 3.819e-01 4.675e-01 3.335e-01 9.549e-01\n",
      "  6.701e-01 4.666e-01 9.483e-01]\n",
      " [3.539e-01 6.791e-01 1.233e-01 1.171e-01 5.524e-01 6.621e-01 2.984e-02\n",
      "  2.459e-01 2.372e-01 7.943e-01]\n",
      " [1.409e-01 1.253e-01 2.488e-01 7.954e-01 2.439e-01 8.513e-01 1.197e-01\n",
      "  7.978e-01 9.752e-01 2.234e-01]]\n",
      "np.set_printoptions(threshold=float(\"inf\"))\n",
      "Z = np.zeros((40,40))\n",
      "print(Z)\n"
     ]
    }
   ],
   "source": [
    "A = np.random.random((10, 10))\n",
    "np.set_printoptions(precision=3, threshold=float(\"inf\"))\n",
    "print(A)\n",
    "answer(49)"
   ]
  },
  {
   "cell_type": "markdown",
   "id": "56edae30",
   "metadata": {},
   "source": [
    "#### 50. How to find the closest value (to a given scalar) in a vector? (★★☆)"
   ]
  },
  {
   "cell_type": "code",
   "execution_count": 732,
   "id": "b34f3cf0",
   "metadata": {},
   "outputs": [
    {
     "name": "stdout",
     "output_type": "stream",
     "text": [
      "hint: argmin\n",
      "(8, 2)\n",
      "0.3978450039066682\n",
      "Z = np.arange(100)\n",
      "v = np.random.uniform(0,100)\n",
      "index = (np.abs(Z-v)).argmin()\n",
      "print(Z[index])\n"
     ]
    }
   ],
   "source": [
    "hint(50)\n",
    "A = np.random.random((10, 10))\n",
    "s = 0.4\n",
    "index = np.unravel_index(np.argmin(np.abs(A - s)), A.shape)\n",
    "print(index)\n",
    "print(A[index])\n",
    "answer(50)"
   ]
  },
  {
   "cell_type": "markdown",
   "id": "a8f3578d",
   "metadata": {},
   "source": [
    "#### 51. Create a structured array representing a position (x,y) and a color (r,g,b) (★★☆)"
   ]
  },
  {
   "cell_type": "code",
   "execution_count": 778,
   "id": "4e9c2e30",
   "metadata": {},
   "outputs": [
    {
     "name": "stdout",
     "output_type": "stream",
     "text": [
      "[((255, 255, 255), (1., 0.)) ((100, 200, 150), (2., 0.))\n",
      " (( 55,  25,  55), (3., 0.))]\n",
      "[255 100  55]\n"
     ]
    }
   ],
   "source": [
    "color_dt = np.dtype([(\"red\", \"uint8\"), (\"green\", \"uint8\"), (\"blue\", \"uint8\")])\n",
    "position_dt = np.dtype([(\"x\", float), (\"y\", float)])\n",
    "dt = np.dtype([(\"color\", color_dt), (\"position\", position_dt)])\n",
    "A = np.array([((255, 255, 255), (1, 0)),\n",
    "              ((100, 200, 150), (2, 0)),\n",
    "              ((55, 25, 55), (3, 0))], dtype=dt)\n",
    "print(A)\n",
    "print(A[\"color\"][\"red\"])"
   ]
  },
  {
   "cell_type": "code",
   "execution_count": 770,
   "id": "bc7ff212-1550-4e61-8985-0a12c81ee34d",
   "metadata": {},
   "outputs": [
    {
     "name": "stdout",
     "output_type": "stream",
     "text": [
      "[((0., 0.), (0., 0., 0.)) ((0., 0.), (0., 0., 0.))\n",
      " ((0., 0.), (0., 0., 0.)) ((0., 0.), (0., 0., 0.))\n",
      " ((0., 0.), (0., 0., 0.)) ((0., 0.), (0., 0., 0.))\n",
      " ((0., 0.), (0., 0., 0.)) ((0., 0.), (0., 0., 0.))\n",
      " ((0., 0.), (0., 0., 0.)) ((0., 0.), (0., 0., 0.))]\n"
     ]
    },
    {
     "name": "stderr",
     "output_type": "stream",
     "text": [
      "/var/folders/4t/yyv2xt5d5711qlypt6w9j0c40000gn/T/ipykernel_16175/274409719.py:1: FutureWarning: Passing (type, 1) or '1type' as a synonym of type is deprecated; in a future version of numpy, it will be understood as (type, (1,)) / '(1,)type'.\n",
      "  Z = np.zeros(10, [ ('position', [ ('x', float, 1),\n"
     ]
    }
   ],
   "source": [
    "Z = np.zeros(10, [ ('position', [ ('x', float, 1),\n",
    "                                  ('y', float, 1)]),\n",
    "                   ('color',    [ ('r', float, 1),\n",
    "                                  ('g', float, 1),\n",
    "                                  ('b', float, 1)])])\n",
    "print(Z)"
   ]
  },
  {
   "cell_type": "markdown",
   "id": "cd41c4dc",
   "metadata": {},
   "source": [
    "#### 52. Consider a random vector with shape (100,2) representing coordinates, find point by point distances (★★☆)"
   ]
  },
  {
   "cell_type": "code",
   "execution_count": 45,
   "id": "53f15c5d",
   "metadata": {},
   "outputs": [
    {
     "name": "stdout",
     "output_type": "stream",
     "text": [
      "hint: np.atleast_2d, T, np.sqrt\n",
      "[[0.         0.11736449 0.19199281 0.25038226 0.28691162 0.67684078\n",
      "  0.34442146 0.0787581  0.57207492 0.47711427]\n",
      " [0.11736449 0.         0.08527411 0.13485572 0.36782451 0.68110576\n",
      "  0.28313862 0.04849525 0.56721309 0.50473449]\n",
      " [0.19199281 0.08527411 0.         0.06659587 0.45307294 0.74369101\n",
      "  0.21397808 0.133432   0.62682749 0.48578035]\n",
      " [0.25038226 0.13485572 0.06659587 0.         0.49298244 0.74002781\n",
      "  0.23197906 0.1820556  0.62106484 0.53658058]\n",
      " [0.28691162 0.36782451 0.45307294 0.49298244 0.         0.4861946\n",
      "  0.63081794 0.32018143 0.41584102 0.71553917]\n",
      " [0.67684078 0.68110576 0.74369101 0.74002781 0.4861946  0.\n",
      "  0.95761038 0.65351822 0.11999617 1.15328562]\n",
      " [0.34442146 0.28313862 0.21397808 0.23197906 0.63081794 0.95761038\n",
      "  0.         0.32234006 0.84079143 0.34999989]\n",
      " [0.0787581  0.04849525 0.133432   0.1820556  0.32018143 0.65351822\n",
      "  0.32234006 0.         0.54241461 0.51467416]\n",
      " [0.57207492 0.56721309 0.62682749 0.62106484 0.41584102 0.11999617\n",
      "  0.84079143 0.54241461 0.         1.04910861]\n",
      " [0.47711427 0.50473449 0.48578035 0.53658058 0.71553917 1.15328562\n",
      "  0.34999989 0.51467416 1.04910861 0.        ]]\n",
      "Z = np.random.random((10,2))\n",
      "X,Y = np.atleast_2d(Z[:,0], Z[:,1])\n",
      "D = np.sqrt( (X-X.T)**2 + (Y-Y.T)**2)\n",
      "print(D)\n",
      "\n",
      "# Much faster with scipy\n",
      "import scipy\n",
      "# Thanks Gavin Heverly-Coulson (#issue 1)\n",
      "import scipy.spatial\n",
      "\n",
      "Z = np.random.random((10,2))\n",
      "D = scipy.spatial.distance.cdist(Z,Z)\n",
      "print(D)\n"
     ]
    }
   ],
   "source": [
    "hint(52)\n",
    "Z = np.random.random((10, 2))\n",
    "X = np.atleast_2d(Z[:,0])\n",
    "Y = np.atleast_2d(Z[:,1])\n",
    "res = np.sqrt((X-X.T)**2 + (Y-Y.T)**2)\n",
    "print(res)\n",
    "answer(52)"
   ]
  },
  {
   "cell_type": "code",
   "execution_count": 47,
   "id": "be8a823c-70a1-4b65-a62f-f3ca024a82cc",
   "metadata": {},
   "outputs": [
    {
     "name": "stdout",
     "output_type": "stream",
     "text": [
      "[[0.         0.4458644  0.64734168 0.74095024 0.24990898 0.42005393\n",
      "  0.82739728 0.35142617 0.40332306 0.22286825]\n",
      " [0.4458644  0.         0.57661836 0.46913102 0.56118469 0.31615009\n",
      "  0.80353964 0.37546239 0.14351089 0.65500562]\n",
      " [0.64734168 0.57661836 0.         0.29584484 0.89050878 0.8476423\n",
      "  0.22694666 0.29972804 0.43851156 0.83850793]\n",
      " [0.74095024 0.46913102 0.29584484 0.         0.94815364 0.78362607\n",
      "  0.46864271 0.41982278 0.38017018 0.95987589]\n",
      " [0.24990898 0.56118469 0.89050878 0.94815364 0.         0.3713279\n",
      "  1.07661697 0.59116606 0.57753828 0.20635715]\n",
      " [0.42005393 0.31615009 0.8476423  0.78362607 0.3713279  0.\n",
      "  1.06896388 0.58111043 0.41998568 0.54598505]\n",
      " [0.82739728 0.80353964 0.22694666 0.46864271 1.07661697 1.06896388\n",
      "  0.         0.50066462 0.66477993 0.99401135]\n",
      " [0.35142617 0.37546239 0.29972804 0.41982278 0.59116606 0.58111043\n",
      "  0.50066462 0.         0.2386819  0.55577777]\n",
      " [0.40332306 0.14351089 0.43851156 0.38017018 0.57753828 0.41998568\n",
      "  0.66477993 0.2386819  0.         0.62538024]\n",
      " [0.22286825 0.65500562 0.83850793 0.95987589 0.20635715 0.54598505\n",
      "  0.99401135 0.55577777 0.62538024 0.        ]]\n"
     ]
    }
   ],
   "source": [
    "import scipy.spatial\n",
    "\n",
    "Z = np.random.random((10, 2))\n",
    "res = scipy.spatial.distance.cdist(Z, Z)\n",
    "print(res)"
   ]
  },
  {
   "cell_type": "markdown",
   "id": "0e2990a0",
   "metadata": {},
   "source": [
    "#### 53. How to convert a float (32 bits) array into an integer (32 bits) array in place?"
   ]
  },
  {
   "cell_type": "code",
   "execution_count": 165,
   "id": "8d7e441e",
   "metadata": {},
   "outputs": [
    {
     "name": "stdout",
     "output_type": "stream",
     "text": [
      "hint: view and [:] =\n",
      "Before:\n",
      "Z: [1. 2. 3.], Z.dtype: float32\n",
      "res: [1065353216 1073741824 1077936128], res.dtype: int32\n",
      "\n",
      "After:\n",
      "Z: [1.e-45 3.e-45 4.e-45], Z.dtype: float32\n",
      "res: [1 2 3], res.dtype: int32\n",
      "# Thanks Vikas (https://stackoverflow.com/a/10622758/5989906)\n",
      "# & unutbu (https://stackoverflow.com/a/4396247/5989906)\n",
      "Z = (np.random.rand(10)*100).astype(np.float32)\n",
      "Y = Z.view(np.int32)\n",
      "Y[:] = Z\n",
      "print(Y)\n"
     ]
    }
   ],
   "source": [
    "hint(53)\n",
    "Z = np.array([1.0, 2.0, 3.0], dtype=np.float32)\n",
    "res = Z.view(np.int32) # view is NOT for conversion, but for reinterpretation\n",
    "\n",
    "print(\"Before:\")\n",
    "print(f\"Z: {Z}, Z.dtype: {Z.dtype}\")\n",
    "print(f\"res: {res}, res.dtype: {res.dtype}\") # res now contains the int32 representations of those float32 values\n",
    "\n",
    "res[:] = Z # casts each float in Z to an int32, then stores that int32 value back into the float array's memory\n",
    "\n",
    "print(\"\\nAfter:\")\n",
    "print(f\"Z: {Z}, Z.dtype: {Z.dtype}\") # Z now contains the float32 representation of those int32 values\n",
    "print(f\"res: {res}, res.dtype: {res.dtype}\")\n",
    "answer(53)"
   ]
  },
  {
   "cell_type": "markdown",
   "id": "9e3fae09",
   "metadata": {},
   "source": [
    "#### 54. How to read the following file? (★★☆)\n",
    "```\n",
    "1, 2, 3, 4, 5\n",
    "6,  ,  , 7, 8\n",
    " ,  , 9,10,11\n",
    "```"
   ]
  },
  {
   "cell_type": "code",
   "execution_count": 207,
   "id": "5ce8d677",
   "metadata": {},
   "outputs": [
    {
     "name": "stdout",
     "output_type": "stream",
     "text": [
      "hint: np.genfromtxt\n",
      "[[ 1  2  3  4  5]\n",
      " [ 6 -1 -1  7  8]\n",
      " [-1 -1  9 10 11]]\n",
      "from io import StringIO\n",
      "\n",
      "# Fake file\n",
      "s = StringIO('''1, 2, 3, 4, 5\n",
      "\n",
      "                6,  ,  , 7, 8\n",
      "\n",
      "                 ,  , 9,10,11\n",
      "''')\n",
      "Z = np.genfromtxt(s, delimiter=\",\", dtype=np.int)\n",
      "print(Z)\n"
     ]
    }
   ],
   "source": [
    "hint(54)\n",
    "from io import StringIO\n",
    "s = StringIO('''1, 2, 3, 4, 5\n",
    "\n",
    "                6,  ,  , 7, 8\n",
    "\n",
    "                 ,  , 9,10,11\n",
    "''')\n",
    "Z = np.genfromtxt(s, delimiter=\",\", dtype=np.int32)\n",
    "print(Z)\n",
    "answer(54)"
   ]
  },
  {
   "cell_type": "markdown",
   "id": "dc8e013a",
   "metadata": {},
   "source": [
    "#### 55. What is the equivalent of enumerate for numpy arrays? (★★☆)"
   ]
  },
  {
   "cell_type": "code",
   "execution_count": 227,
   "id": "6b46c440",
   "metadata": {},
   "outputs": [
    {
     "name": "stdout",
     "output_type": "stream",
     "text": [
      "hint: np.ndenumerate, np.ndindex\n",
      "With np.ndenumerate\n",
      "(0, 0) 1\n",
      "(0, 1) 2\n",
      "(1, 0) 3\n",
      "(1, 1) 4\n",
      "With np.ndindex\n",
      "(0, 0) 1\n",
      "(0, 1) 2\n",
      "(1, 0) 3\n",
      "(1, 1) 4\n",
      "Z = np.arange(9).reshape(3,3)\n",
      "for index, value in np.ndenumerate(Z):\n",
      "    print(index, value)\n",
      "for index in np.ndindex(Z.shape):\n",
      "    print(index, Z[index])\n"
     ]
    }
   ],
   "source": [
    "hint(55)\n",
    "Z = np.array([[1, 2], [3, 4]])\n",
    "\n",
    "print(\"With np.ndenumerate\")\n",
    "for index, value in np.ndenumerate(Z):\n",
    "    print(index, value)\n",
    "\n",
    "print(\"With np.ndindex\")\n",
    "for index in np.ndindex(Z.shape):\n",
    "    print(index, Z[index])\n",
    "answer(55)"
   ]
  },
  {
   "cell_type": "markdown",
   "id": "acdcd8d9",
   "metadata": {},
   "source": [
    "#### 56. Generate a generic 2D Gaussian-like array (★★☆)"
   ]
  },
  {
   "cell_type": "code",
   "execution_count": null,
   "id": "c00f8b49",
   "metadata": {},
   "outputs": [],
   "source": []
  },
  {
   "cell_type": "markdown",
   "id": "3f0bf645",
   "metadata": {},
   "source": [
    "#### 57. How to randomly place p elements in a 2D array? (★★☆)"
   ]
  },
  {
   "cell_type": "code",
   "execution_count": null,
   "id": "bac7ed71",
   "metadata": {},
   "outputs": [],
   "source": []
  },
  {
   "cell_type": "markdown",
   "id": "b9ac42fc",
   "metadata": {},
   "source": [
    "#### 58. Subtract the mean of each row of a matrix (★★☆)"
   ]
  },
  {
   "cell_type": "code",
   "execution_count": null,
   "id": "0cac0138",
   "metadata": {},
   "outputs": [],
   "source": []
  },
  {
   "cell_type": "markdown",
   "id": "f2c2e314",
   "metadata": {},
   "source": [
    "#### 59. How to sort an array by the nth column? (★★☆)"
   ]
  },
  {
   "cell_type": "code",
   "execution_count": null,
   "id": "61739197",
   "metadata": {},
   "outputs": [],
   "source": []
  },
  {
   "cell_type": "markdown",
   "id": "e8311ecb",
   "metadata": {},
   "source": [
    "#### 60. How to tell if a given 2D array has null columns? (★★☆)"
   ]
  },
  {
   "cell_type": "code",
   "execution_count": null,
   "id": "a3fd8a79",
   "metadata": {},
   "outputs": [],
   "source": []
  },
  {
   "cell_type": "markdown",
   "id": "e9617f44",
   "metadata": {},
   "source": [
    "#### 61. Find the nearest value from a given value in an array (★★☆)"
   ]
  },
  {
   "cell_type": "code",
   "execution_count": null,
   "id": "2fb40d45",
   "metadata": {},
   "outputs": [],
   "source": []
  },
  {
   "cell_type": "markdown",
   "id": "892813ba",
   "metadata": {},
   "source": [
    "#### 62. Considering two arrays with shape (1,3) and (3,1), how to compute their sum using an iterator? (★★☆)"
   ]
  },
  {
   "cell_type": "code",
   "execution_count": null,
   "id": "0ec3c1ee",
   "metadata": {},
   "outputs": [],
   "source": []
  },
  {
   "cell_type": "markdown",
   "id": "467ff234",
   "metadata": {},
   "source": [
    "#### 63. Create an array class that has a name attribute (★★☆)"
   ]
  },
  {
   "cell_type": "code",
   "execution_count": null,
   "id": "43d6ba35",
   "metadata": {},
   "outputs": [],
   "source": []
  },
  {
   "cell_type": "markdown",
   "id": "af15b01a",
   "metadata": {},
   "source": [
    "#### 64. Consider a given vector, how to add 1 to each element indexed by a second vector (be careful with repeated indices)? (★★★)"
   ]
  },
  {
   "cell_type": "code",
   "execution_count": null,
   "id": "52d9315d",
   "metadata": {},
   "outputs": [],
   "source": []
  },
  {
   "cell_type": "markdown",
   "id": "62d21ba4",
   "metadata": {},
   "source": [
    "#### 65. How to accumulate elements of a vector (X) to an array (F) based on an index list (I)? (★★★)"
   ]
  },
  {
   "cell_type": "code",
   "execution_count": null,
   "id": "56497ebc",
   "metadata": {},
   "outputs": [],
   "source": []
  },
  {
   "cell_type": "markdown",
   "id": "fd7e0104",
   "metadata": {},
   "source": [
    "#### 66. Considering a (w,h,3) image of (dtype=ubyte), compute the number of unique colors (★★☆)"
   ]
  },
  {
   "cell_type": "code",
   "execution_count": null,
   "id": "1cf3edec",
   "metadata": {},
   "outputs": [],
   "source": []
  },
  {
   "cell_type": "markdown",
   "id": "dd70e081",
   "metadata": {},
   "source": [
    "#### 67. Considering a four dimensions array, how to get sum over the last two axis at once? (★★★)"
   ]
  },
  {
   "cell_type": "code",
   "execution_count": null,
   "id": "e36af36e",
   "metadata": {},
   "outputs": [],
   "source": []
  },
  {
   "cell_type": "markdown",
   "id": "58333fa3",
   "metadata": {},
   "source": [
    "#### 68. Considering a one-dimensional vector D, how to compute means of subsets of D using a vector S of same size describing subset  indices? (★★★)"
   ]
  },
  {
   "cell_type": "code",
   "execution_count": null,
   "id": "acfc823e",
   "metadata": {},
   "outputs": [],
   "source": []
  },
  {
   "cell_type": "markdown",
   "id": "afbf2ff8",
   "metadata": {},
   "source": [
    "#### 69. How to get the diagonal of a dot product? (★★★)"
   ]
  },
  {
   "cell_type": "code",
   "execution_count": null,
   "id": "8b44d9cb",
   "metadata": {},
   "outputs": [],
   "source": []
  },
  {
   "cell_type": "markdown",
   "id": "01a1aeea",
   "metadata": {},
   "source": [
    "#### 70. Consider the vector [1, 2, 3, 4, 5], how to build a new vector with 3 consecutive zeros interleaved between each value? (★★★)"
   ]
  },
  {
   "cell_type": "code",
   "execution_count": null,
   "id": "2105434f",
   "metadata": {},
   "outputs": [],
   "source": []
  },
  {
   "cell_type": "markdown",
   "id": "1da61b2c",
   "metadata": {},
   "source": [
    "#### 71. Consider an array of dimension (5,5,3), how to multiply it by an array with dimensions (5,5)? (★★★)"
   ]
  },
  {
   "cell_type": "code",
   "execution_count": null,
   "id": "0f257760",
   "metadata": {},
   "outputs": [],
   "source": []
  },
  {
   "cell_type": "markdown",
   "id": "d465a23a",
   "metadata": {},
   "source": [
    "#### 72. How to swap two rows of an array? (★★★)"
   ]
  },
  {
   "cell_type": "code",
   "execution_count": null,
   "id": "85dbac4a",
   "metadata": {},
   "outputs": [],
   "source": []
  },
  {
   "cell_type": "markdown",
   "id": "64916675",
   "metadata": {},
   "source": [
    "#### 73. Consider a set of 10 triplets describing 10 triangles (with shared vertices), find the set of unique line segments composing all the  triangles (★★★)"
   ]
  },
  {
   "cell_type": "code",
   "execution_count": null,
   "id": "22cf4ff6",
   "metadata": {},
   "outputs": [],
   "source": []
  },
  {
   "cell_type": "markdown",
   "id": "5ac69993",
   "metadata": {},
   "source": [
    "#### 74. Given a sorted array C that corresponds to a bincount, how to produce an array A such that np.bincount(A) == C? (★★★)"
   ]
  },
  {
   "cell_type": "code",
   "execution_count": null,
   "id": "6e2b4a3b",
   "metadata": {},
   "outputs": [],
   "source": []
  },
  {
   "cell_type": "markdown",
   "id": "41ae2500",
   "metadata": {},
   "source": [
    "#### 75. How to compute averages using a sliding window over an array? (★★★)"
   ]
  },
  {
   "cell_type": "code",
   "execution_count": null,
   "id": "460cdb46",
   "metadata": {},
   "outputs": [],
   "source": []
  },
  {
   "cell_type": "markdown",
   "id": "8a968a39",
   "metadata": {},
   "source": [
    "#### 76. Consider a one-dimensional array Z, build a two-dimensional array whose first row is (Z[0],Z[1],Z[2]) and each subsequent row is  shifted by 1 (last row should be (Z[-3],Z[-2],Z[-1]) (★★★)"
   ]
  },
  {
   "cell_type": "code",
   "execution_count": null,
   "id": "5d37d9b3",
   "metadata": {},
   "outputs": [],
   "source": []
  },
  {
   "cell_type": "markdown",
   "id": "d8c056da",
   "metadata": {},
   "source": [
    "#### 77. How to negate a boolean, or to change the sign of a float inplace? (★★★)"
   ]
  },
  {
   "cell_type": "code",
   "execution_count": null,
   "id": "3a0ba740",
   "metadata": {},
   "outputs": [],
   "source": []
  },
  {
   "cell_type": "markdown",
   "id": "6a2632c8",
   "metadata": {},
   "source": [
    "#### 78. Consider 2 sets of points P0,P1 describing lines (2d) and a point p, how to compute distance from p to each line i (P0[i],P1[i])? (★★★)"
   ]
  },
  {
   "cell_type": "code",
   "execution_count": null,
   "id": "cce12b75",
   "metadata": {},
   "outputs": [],
   "source": []
  },
  {
   "cell_type": "markdown",
   "id": "7cba6ae9",
   "metadata": {},
   "source": [
    "#### 79. Consider 2 sets of points P0,P1 describing lines (2d) and a set of points P, how to compute distance from each point j (P[j]) to each line i (P0[i],P1[i])? (★★★)"
   ]
  },
  {
   "cell_type": "code",
   "execution_count": null,
   "id": "576c542d",
   "metadata": {},
   "outputs": [],
   "source": []
  },
  {
   "cell_type": "markdown",
   "id": "1402e9db",
   "metadata": {},
   "source": [
    "#### 80. Consider an arbitrary array, write a function that extracts a subpart with a fixed shape and centered on a given element (pad with a `fill` value when necessary) (★★★)"
   ]
  },
  {
   "cell_type": "code",
   "execution_count": null,
   "id": "8aa89c72",
   "metadata": {},
   "outputs": [],
   "source": []
  },
  {
   "cell_type": "markdown",
   "id": "159a6dff",
   "metadata": {},
   "source": [
    "#### 81. Consider an array Z = [1,2,3,4,5,6,7,8,9,10,11,12,13,14], how to generate an array R = [[1,2,3,4], [2,3,4,5], [3,4,5,6], ..., [11,12,13,14]]? (★★★)"
   ]
  },
  {
   "cell_type": "code",
   "execution_count": null,
   "id": "ce160b57",
   "metadata": {},
   "outputs": [],
   "source": []
  },
  {
   "cell_type": "markdown",
   "id": "9479f684",
   "metadata": {},
   "source": [
    "#### 82. Compute a matrix rank (★★★)"
   ]
  },
  {
   "cell_type": "code",
   "execution_count": null,
   "id": "9a6e088c",
   "metadata": {},
   "outputs": [],
   "source": []
  },
  {
   "cell_type": "markdown",
   "id": "5b6a81c5",
   "metadata": {},
   "source": [
    "#### 83. How to find the most frequent value in an array?"
   ]
  },
  {
   "cell_type": "code",
   "execution_count": null,
   "id": "cf1864ba",
   "metadata": {},
   "outputs": [],
   "source": []
  },
  {
   "cell_type": "markdown",
   "id": "8142c362",
   "metadata": {},
   "source": [
    "#### 84. Extract all the contiguous 3x3 blocks from a random 10x10 matrix (★★★)"
   ]
  },
  {
   "cell_type": "code",
   "execution_count": null,
   "id": "18b475ed",
   "metadata": {},
   "outputs": [],
   "source": []
  },
  {
   "cell_type": "markdown",
   "id": "6870a477",
   "metadata": {},
   "source": [
    "#### 85. Create a 2D array subclass such that Z[i,j] == Z[j,i] (★★★)"
   ]
  },
  {
   "cell_type": "code",
   "execution_count": null,
   "id": "13de2582",
   "metadata": {},
   "outputs": [],
   "source": []
  },
  {
   "cell_type": "markdown",
   "id": "502a6bb6",
   "metadata": {},
   "source": [
    "#### 86. Consider a set of p matrices with shape (n,n) and a set of p vectors with shape (n,1). How to compute the sum of of the p matrix products at once? (result has shape (n,1)) (★★★)"
   ]
  },
  {
   "cell_type": "code",
   "execution_count": null,
   "id": "5f575c8e",
   "metadata": {},
   "outputs": [],
   "source": []
  },
  {
   "cell_type": "markdown",
   "id": "b974e01e",
   "metadata": {},
   "source": [
    "#### 87. Consider a 16x16 array, how to get the block-sum (block size is 4x4)? (★★★)"
   ]
  },
  {
   "cell_type": "code",
   "execution_count": null,
   "id": "6e691289",
   "metadata": {},
   "outputs": [],
   "source": []
  },
  {
   "cell_type": "markdown",
   "id": "0b8c10c7",
   "metadata": {},
   "source": [
    "#### 88. How to implement the Game of Life using numpy arrays? (★★★)"
   ]
  },
  {
   "cell_type": "code",
   "execution_count": null,
   "id": "cd02f7f3",
   "metadata": {},
   "outputs": [],
   "source": []
  },
  {
   "cell_type": "markdown",
   "id": "e3f82541",
   "metadata": {},
   "source": [
    "#### 89. How to get the n largest values of an array (★★★)"
   ]
  },
  {
   "cell_type": "code",
   "execution_count": null,
   "id": "4fbd0146",
   "metadata": {},
   "outputs": [],
   "source": []
  },
  {
   "cell_type": "markdown",
   "id": "a7539391",
   "metadata": {},
   "source": [
    "#### 90. Given an arbitrary number of vectors, build the cartesian product (every combination of every item) (★★★)"
   ]
  },
  {
   "cell_type": "code",
   "execution_count": null,
   "id": "c6981e30",
   "metadata": {},
   "outputs": [],
   "source": []
  },
  {
   "cell_type": "markdown",
   "id": "faf28eb3",
   "metadata": {},
   "source": [
    "#### 91. How to create a record array from a regular array? (★★★)"
   ]
  },
  {
   "cell_type": "code",
   "execution_count": null,
   "id": "bf3c36e8",
   "metadata": {},
   "outputs": [],
   "source": []
  },
  {
   "cell_type": "markdown",
   "id": "bd45d52b",
   "metadata": {},
   "source": [
    "#### 92. Consider a large vector Z, compute Z to the power of 3 using 3 different methods (★★★)"
   ]
  },
  {
   "cell_type": "code",
   "execution_count": null,
   "id": "57add736",
   "metadata": {},
   "outputs": [],
   "source": []
  },
  {
   "cell_type": "markdown",
   "id": "6403bb1e",
   "metadata": {},
   "source": [
    "#### 93. Consider two arrays A and B of shape (8,3) and (2,2). How to find rows of A that contain elements of each row of B regardless of the order of the elements in B? (★★★)"
   ]
  },
  {
   "cell_type": "code",
   "execution_count": null,
   "id": "5e99e376",
   "metadata": {},
   "outputs": [],
   "source": []
  },
  {
   "cell_type": "markdown",
   "id": "2b1a4d2d",
   "metadata": {},
   "source": [
    "#### 94. Considering a 10x3 matrix, extract rows with unequal values (e.g. [2,2,3]) (★★★)"
   ]
  },
  {
   "cell_type": "code",
   "execution_count": null,
   "id": "9d12a8cd",
   "metadata": {},
   "outputs": [],
   "source": []
  },
  {
   "cell_type": "markdown",
   "id": "523fbb20",
   "metadata": {},
   "source": [
    "#### 95. Convert a vector of ints into a matrix binary representation (★★★)"
   ]
  },
  {
   "cell_type": "code",
   "execution_count": null,
   "id": "b17c2ce8",
   "metadata": {},
   "outputs": [],
   "source": []
  },
  {
   "cell_type": "markdown",
   "id": "3eb5ef69",
   "metadata": {},
   "source": [
    "#### 96. Given a two dimensional array, how to extract unique rows? (★★★)"
   ]
  },
  {
   "cell_type": "code",
   "execution_count": null,
   "id": "092c2c20",
   "metadata": {},
   "outputs": [],
   "source": []
  },
  {
   "cell_type": "markdown",
   "id": "c0e13fe1",
   "metadata": {},
   "source": [
    "#### 97. Considering 2 vectors A & B, write the einsum equivalent of inner, outer, sum, and mul function (★★★)"
   ]
  },
  {
   "cell_type": "code",
   "execution_count": null,
   "id": "b7b697cd",
   "metadata": {},
   "outputs": [],
   "source": []
  },
  {
   "cell_type": "markdown",
   "id": "cc071dbe",
   "metadata": {},
   "source": [
    "#### 98. Considering a path described by two vectors (X,Y), how to sample it using equidistant samples (★★★)?"
   ]
  },
  {
   "cell_type": "code",
   "execution_count": null,
   "id": "fec9fe86",
   "metadata": {},
   "outputs": [],
   "source": []
  },
  {
   "cell_type": "markdown",
   "id": "972f9dc3",
   "metadata": {},
   "source": [
    "#### 99. Given an integer n and a 2D array X, select from X the rows which can be interpreted as draws from a multinomial distribution with n degrees, i.e., the rows which only contain integers and which sum to n. (★★★)"
   ]
  },
  {
   "cell_type": "code",
   "execution_count": null,
   "id": "5b284c86",
   "metadata": {},
   "outputs": [],
   "source": []
  },
  {
   "cell_type": "markdown",
   "id": "afad9d6e",
   "metadata": {},
   "source": [
    "#### 100. Compute bootstrapped 95% confidence intervals for the mean of a 1D array X (i.e., resample the elements of an array with replacement N times, compute the mean of each sample, and then compute percentiles over the means). (★★★)"
   ]
  },
  {
   "cell_type": "code",
   "execution_count": null,
   "id": "f1885c64",
   "metadata": {},
   "outputs": [],
   "source": []
  }
 ],
 "metadata": {
  "kernelspec": {
   "display_name": "Python 3 (ipykernel)",
   "language": "python",
   "name": "python3"
  },
  "language_info": {
   "codemirror_mode": {
    "name": "ipython",
    "version": 3
   },
   "file_extension": ".py",
   "mimetype": "text/x-python",
   "name": "python",
   "nbconvert_exporter": "python",
   "pygments_lexer": "ipython3",
   "version": "3.12.4"
  }
 },
 "nbformat": 4,
 "nbformat_minor": 5
}
